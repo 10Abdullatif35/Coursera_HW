{
 "cells": [
  {
   "cell_type": "markdown",
   "id": "01c924e3-07bf-46ac-bcc2-4beb956e54c0",
   "metadata": {},
   "source": [
    "# Data Science Tools and Ecosystem\n",
    "\r\n"
   ]
  },
  {
   "cell_type": "markdown",
   "id": "555a74be-7bda-4b39-9123-cf4ee0756739",
   "metadata": {},
   "source": [
    "In this notebook, an overview of the Data Science Tools and Ecosystem is provided"
   ]
  },
  {
   "cell_type": "markdown",
   "id": "d61851e3-bf32-467d-bfcc-ed14adff8855",
   "metadata": {},
   "source": [
    "**Objectives:**\r\n",
    "\r\n",
    "- Understand the basics of arithmetic operations in Python.\r\n",
    "- Learn how to convert minutes to hours using Pyth\n",
    "- List popular languages for Data Scienceon.\r\n",
    "- Explore different ways to evaluate and print results in Python code cells.\r\n",
    "- Identify key takeaways and important concepts from the course.\r\n"
   ]
  },
  {
   "cell_type": "markdown",
   "id": "dc0d8b65-fa8f-49cc-a573-ddfadc7f50e9",
   "metadata": {},
   "source": [
    "Some of the popular languages that Data Scientists use are:\n",
    "1. Python\r\n",
    "2. R\r\n",
    "3. SQL\r\n",
    "4. Java\r\n",
    "5. Julia\r\n",
    "6. Scala\r\n",
    "QL\r\n"
   ]
  },
  {
   "cell_type": "markdown",
   "id": "122e6dc3-7810-42b4-be56-62aa741ba7fa",
   "metadata": {},
   "source": [
    "Some of the commonly used libraries used by Data Scientists include:\r\n",
    "\r\n",
    "1. NumPy\r\n",
    "2. Pandas\r\n",
    "3. Matplotlib\r\n",
    "4. SciPy\r\n",
    "5. Scikit-learn\r\n",
    "6. TensorFlow\r\n",
    "7. Keras\r\n",
    "8. PyTorch\r\n",
    "9. Seaborn\r\n",
    "10. Plotly\r\n",
    "11. NLTK\r\n",
    "12. SpaCy\r\n",
    "13. Statsmodels\r\n",
    "14. XGBoost\r\n",
    "15. LightGBM\r\n",
    "16. OpenCV\r\n"
   ]
  },
  {
   "cell_type": "markdown",
   "id": "b97c09f4-92b5-42bc-bf83-3b31bcf8a817",
   "metadata": {},
   "source": [
    "\r\n",
    "\r\n",
    "Data Science Toolsls          |\r\n",
    "|----------------|\r\n",
    "| Jupyter Notebook|\r\n",
    "| RStudio        |\r\n",
    "| Apache Zeppelin|\r\n"
   ]
  },
  {
   "cell_type": "markdown",
   "id": "b32eabae-3bbb-45e1-b796-746bf3b11e9c",
   "metadata": {},
   "source": [
    "### Here are some examples of evaluating arithmetic expressions in Python\n"
   ]
  },
  {
   "cell_type": "code",
   "execution_count": 5,
   "id": "b5b3a621-c8ec-4b62-936d-b9c2a47818f1",
   "metadata": {},
   "outputs": [
    {
     "name": "stdout",
     "output_type": "stream",
     "text": [
      "232\n"
     ]
    }
   ],
   "source": [
    "# This is a simple arithmetic expression to multiply then add integers\n",
    "result = (13 * 17) + 11\n",
    "print(result)\n"
   ]
  },
  {
   "cell_type": "code",
   "execution_count": 6,
   "id": "2f56dde0-0403-4f07-b9c3-eb92a82d62d0",
   "metadata": {},
   "outputs": [
    {
     "name": "stdout",
     "output_type": "stream",
     "text": [
      "3\n"
     ]
    }
   ],
   "source": [
    "# This will convert 200 minutes to hours by dividing by 60 and converting to integer\n",
    "minutes = 200\n",
    "hours = int(minutes / 60)\n",
    "print(hours)\n"
   ]
  },
  {
   "cell_type": "markdown",
   "id": "492d2f4f-fab4-411d-a2d5-a286ffab828a",
   "metadata": {},
   "source": [
    "## Author\n",
    "\n",
    "Abdullatif AKKAYA\n"
   ]
  }
 ],
 "metadata": {
  "kernelspec": {
   "display_name": "Python 3 (ipykernel)",
   "language": "python",
   "name": "python3"
  },
  "language_info": {
   "codemirror_mode": {
    "name": "ipython",
    "version": 3
   },
   "file_extension": ".py",
   "mimetype": "text/x-python",
   "name": "python",
   "nbconvert_exporter": "python",
   "pygments_lexer": "ipython3",
   "version": "3.12.4"
  }
 },
 "nbformat": 4,
 "nbformat_minor": 5
}
